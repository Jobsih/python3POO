{
  "nbformat": 4,
  "nbformat_minor": 0,
  "metadata": {
    "colab": {
      "provenance": []
    },
    "kernelspec": {
      "name": "python3",
      "display_name": "Python 3"
    },
    "language_info": {
      "name": "python"
    }
  },
  "cells": [
    {
      "cell_type": "code",
      "execution_count": 3,
      "metadata": {
        "id": "OcSSPTJa8U1C"
      },
      "outputs": [],
      "source": [
        "alumno = {'numero_cuenta' : 1232322 , 'carrera' : 'ICO' ,\n",
        "            'direccion' : {'calle' : 'rancho seco', 'numero' : 23,},\n",
        "            'telefonos': [5567089809, 5569406640]\n",
        "          }"
      ]
    },
    {
      "cell_type": "code",
      "source": [
        "print(alumno['direccion']['calle'][3:6:1])\n",
        "print(alumno['telefonos'])\n",
        "print(alumno)\n",
        "alumno['facultad'] = 'Fes Aragón'\n",
        "print(alumno)"
      ],
      "metadata": {
        "colab": {
          "base_uri": "https://localhost:8080/"
        },
        "id": "VD7aW3ai87uG",
        "outputId": "b13365a3-1781-4662-9922-5bce855165b7"
      },
      "execution_count": 9,
      "outputs": [
        {
          "output_type": "stream",
          "name": "stdout",
          "text": [
            "cho\n",
            "[5567089809, 5569406640]\n",
            "{'numero_cuenta': 1232322, 'carrera': 'ICO, ¿hay otra?', 'direccion': {'calle': 'rancho seco', 'numero': 23}, 'telefonos': [5567089809, 5569406640]}\n",
            "{'numero_cuenta': 1232322, 'carrera': 'ICO, ¿hay otra?', 'direccion': {'calle': 'rancho seco', 'numero': 23}, 'telefonos': [5567089809, 5569406640], 'facultad': 'Fes Aragón'}\n"
          ]
        }
      ]
    },
    {
      "cell_type": "code",
      "source": [
        "#if\n",
        "edad = 22\n",
        "if edad >= 18:\n",
        "    print(\"Eres mayor de edad.\")\n",
        "    print('Otra cosa')\n",
        "    print('algo más')"
      ],
      "metadata": {
        "colab": {
          "base_uri": "https://localhost:8080/"
        },
        "id": "n9PO1x6E_fsu",
        "outputId": "ea74c416-4491-4e63-c857-1e9458d86365"
      },
      "execution_count": 14,
      "outputs": [
        {
          "output_type": "stream",
          "name": "stdout",
          "text": [
            "Eres mayor de edad.\n",
            "Otra cosa\n",
            "algo más\n"
          ]
        }
      ]
    },
    {
      "cell_type": "code",
      "source": [
        "#if-else\n",
        "edad = 22\n",
        "if edad >= 18:\n",
        "    print(\"Eres mayor de edad.\")\n",
        "    print('Otra cosa')\n",
        "    print('algo más')\n",
        "else :\n",
        "    print (\"Eres menor de edad\")"
      ],
      "metadata": {
        "colab": {
          "base_uri": "https://localhost:8080/"
        },
        "id": "dON59vY59z1a",
        "outputId": "e89a6e9b-cc3e-4abd-825d-08e9a9c88a15"
      },
      "execution_count": 13,
      "outputs": [
        {
          "output_type": "stream",
          "name": "stdout",
          "text": [
            "Eres mayor de edad.\n"
          ]
        }
      ]
    },
    {
      "cell_type": "code",
      "source": [
        "\n",
        "# if- elif - else\n",
        "edad = 22\n",
        "if edad < 13:\n",
        "    print(\"Eres un niño.\")\n",
        "elif edad < 18:\n",
        "    print(\"Eres un adolescente.\")\n",
        "else:\n",
        "    print(\"Eres un adulto.\")"
      ],
      "metadata": {
        "colab": {
          "base_uri": "https://localhost:8080/"
        },
        "id": "v48eidsu_tmE",
        "outputId": "1667f4d2-7559-4235-9183-4fb3ba13d601"
      },
      "execution_count": 18,
      "outputs": [
        {
          "output_type": "stream",
          "name": "stdout",
          "text": [
            "Eres un adulto.\n"
          ]
        }
      ]
    },
    {
      "cell_type": "code",
      "source": [
        "# if-elif-elif -- seleccion múltiple\n",
        "edad = 22\n",
        "if edad < 13:\n",
        "    print(\"Eres un niño.\")\n",
        "elif edad < 18:\n",
        "    print(\"Eres un adolescente.\")\n",
        "elif edad < 30:\n",
        "    print(\"Eres un joven adulto.\")"
      ],
      "metadata": {
        "colab": {
          "base_uri": "https://localhost:8080/"
        },
        "id": "gPUD2avNAOdq",
        "outputId": "906a0744-148b-43aa-e4ed-40ba49959539"
      },
      "execution_count": 20,
      "outputs": [
        {
          "output_type": "stream",
          "name": "stdout",
          "text": [
            "Eres un joven adulto.\n"
          ]
        }
      ]
    },
    {
      "cell_type": "code",
      "source": [
        "for i in range(1, 10, 1):\n",
        "    print(i)"
      ],
      "metadata": {
        "colab": {
          "base_uri": "https://localhost:8080/"
        },
        "id": "wVjarE9MA_2E",
        "outputId": "f86955d0-6970-4c64-9064-e07cd6cde35d"
      },
      "execution_count": 21,
      "outputs": [
        {
          "output_type": "stream",
          "name": "stdout",
          "text": [
            "1\n",
            "2\n",
            "3\n",
            "4\n",
            "5\n",
            "6\n",
            "7\n",
            "8\n",
            "9\n"
          ]
        }
      ]
    },
    {
      "cell_type": "code",
      "source": [
        "lim=5\n",
        "for i in range(1, lim, 1):\n",
        "    print(i)"
      ],
      "metadata": {
        "colab": {
          "base_uri": "https://localhost:8080/"
        },
        "id": "YR5R9oWUBql9",
        "outputId": "1db532d0-5a98-4fec-8cd1-ec62f2e83fba"
      },
      "execution_count": 24,
      "outputs": [
        {
          "output_type": "stream",
          "name": "stdout",
          "text": [
            "1\n",
            "2\n",
            "3\n",
            "4\n"
          ]
        }
      ]
    },
    {
      "cell_type": "code",
      "source": [
        "#for-each\n",
        "frutas = ['piña', 'pera', 'manzana', 'fresa', 'aguacate']\n",
        "for numero in frutas:\n",
        "    print(numero)\n",
        "print('---------------------')\n",
        "#break y continue\n",
        "for numero in frutas:\n",
        "    if numero == \"manzana\":\n",
        "        break   # ó continue\n",
        "    print(numero)  # imprime la fruta"
      ],
      "metadata": {
        "colab": {
          "base_uri": "https://localhost:8080/"
        },
        "id": "dTdJisMcCWVj",
        "outputId": "3f04ee2e-8f5b-4e41-b957-c383a32321f9"
      },
      "execution_count": 26,
      "outputs": [
        {
          "output_type": "stream",
          "name": "stdout",
          "text": [
            "piña\n",
            "pera\n",
            "manzana\n",
            "fresa\n",
            "aguacate\n",
            "---------------------\n",
            "piña\n",
            "pera\n"
          ]
        }
      ]
    },
    {
      "cell_type": "code",
      "source": [
        "#for-each\n",
        "frutas = ['piña', 'pera', 'manzana', 'fresa', 'aguacate']\n",
        "for numero in frutas:\n",
        "    print(numero)\n",
        "print('---------------------')\n",
        "#break y continue\n",
        "for numero in frutas:\n",
        "    if numero == \"manzana\":\n",
        "        continue   # antes break\n",
        "    print(numero)  # imprime la fruta"
      ],
      "metadata": {
        "colab": {
          "base_uri": "https://localhost:8080/"
        },
        "id": "vj7Bb_-DEK2T",
        "outputId": "71720555-ccdc-46b1-9124-8706921993b1"
      },
      "execution_count": 28,
      "outputs": [
        {
          "output_type": "stream",
          "name": "stdout",
          "text": [
            "piña\n",
            "pera\n",
            "manzana\n",
            "fresa\n",
            "aguacate\n",
            "---------------------\n",
            "piña\n",
            "pera\n",
            "fresa\n",
            "aguacate\n"
          ]
        }
      ]
    },
    {
      "cell_type": "code",
      "source": [
        "tam = 0\n",
        "while tam < 10 :\n",
        "  print(tam)\n",
        "  tam = int(input('Dame un número entero: '))\n",
        "  print('Final')"
      ],
      "metadata": {
        "colab": {
          "base_uri": "https://localhost:8080/"
        },
        "id": "55iKiF15CiAS",
        "outputId": "388f1891-af94-44a0-81ec-13dccfbc5947"
      },
      "execution_count": 27,
      "outputs": [
        {
          "output_type": "stream",
          "name": "stdout",
          "text": [
            "0\n",
            "Dame un número entero: 1\n",
            "Final\n",
            "1\n",
            "Dame un número entero: 2\n",
            "Final\n",
            "2\n",
            "Dame un número entero: 3\n",
            "Final\n",
            "3\n",
            "Dame un número entero: 11\n",
            "Final\n"
          ]
        }
      ]
    }
  ]
}
